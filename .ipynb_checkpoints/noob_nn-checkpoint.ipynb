{
 "cells": [
  {
   "cell_type": "code",
   "execution_count": 1,
   "metadata": {
    "colab": {},
    "colab_type": "code",
    "id": "KKBsnWLM_bqO"
   },
   "outputs": [],
   "source": [
    "import numpy as np\n",
    "import matplotlib.pyplot as plt\n",
    "import sklearn.datasets\n",
    "\n",
    "%matplotlib inline\n",
    "plt.rcParams['figure.figsize'] = (9.,6.)"
   ]
  },
  {
   "cell_type": "markdown",
   "metadata": {
    "colab_type": "text",
    "id": "wzXtjf3vS_aQ"
   },
   "source": [
    "## Fit the moons"
   ]
  },
  {
   "cell_type": "code",
   "execution_count": 2,
   "metadata": {
    "colab": {},
    "colab_type": "code",
    "id": "yzntUkLpTEDX"
   },
   "outputs": [],
   "source": [
    "def load_dataset():\n",
    "  np.random.seed(1)\n",
    "\n",
    "  # x.shape = (m,n) & y.shape = (m,)\n",
    "  x, y = sklearn.datasets.make_moons(n_samples=300, noise=0.2)\n",
    "\n",
    "  # Transpose shape & return: x.shape = (n,m) & y.shape = (1,m)\n",
    "  return (x.T, y.reshape((1,y.shape[0])))"
   ]
  },
  {
   "cell_type": "code",
   "execution_count": 3,
   "metadata": {
    "colab": {
     "base_uri": "https://localhost:8080/",
     "height": 391
    },
    "colab_type": "code",
    "id": "18M14LYuTHGc",
    "outputId": "f915540c-b5b1-4ffc-e857-a66d2e01823e"
   },
   "outputs": [
    {
     "data": {
      "text/plain": [
       "<matplotlib.collections.PathCollection at 0x7f453edcfcf8>"
      ]
     },
     "execution_count": 3,
     "metadata": {
      "tags": []
     },
     "output_type": "execute_result"
    },
    {
     "data": {
      "image/png": "[encoded data removed]",
      "text/plain": [
       "<Figure size 648x432 with 1 Axes>"
      ]
     },
     "metadata": {
      "needs_background": "light",
      "tags": []
     },
     "output_type": "display_data"
    }
   ],
   "source": [
    "X_train, y_train = load_dataset()\n",
    "\n",
    "plt.scatter(X_train[0, y_train[0,:] == 0], X_train[1, y_train[0,:] == 0], s=40, c='r', marker='o', cmap=plt.cm.Spectral, edgecolors='k')\n",
    "plt.scatter(X_train[0, y_train[0,:] == 1], X_train[1, y_train[0,:] == 1], s=40, c='b', marker='x', cmap=plt.cm.Spectral, edgecolors='k')"
   ]
  },
  {
   "cell_type": "markdown",
   "metadata": {
    "colab_type": "text",
    "id": "GCmfxHUWRCsf"
   },
   "source": [
    "\n",
    "## Initialize parameters"
   ]
  },
  {
   "cell_type": "code",
   "execution_count": 4,
   "metadata": {
    "colab": {},
    "colab_type": "code",
    "id": "-JjKZcSVM3iY"
   },
   "outputs": [],
   "source": [
    "def initialize_params(layer_dims):\n",
    "  \n",
    "  np.random.seed(3)\n",
    "  L = len(layer_dims)\n",
    "  params = {}\n",
    "\n",
    "  for l in range(1, L):\n",
    "    params['W'+str(l)] = np.random.randn(layer_dims[l],layer_dims[l-1]) / np.sqrt(layer_dims[l-1]) # Xavier initialization\n",
    "    params['b'+str(l)] = np.zeros((layer_dims[l],1))\n",
    "\n",
    "    assert(params['W'+str(l)].shape == (layer_dims[l],layer_dims[l-1]))\n",
    "    assert(params['b'+str(l)].shape == (layer_dims[l],1))\n",
    "\n",
    "  return params"
   ]
  },
  {
   "cell_type": "markdown",
   "metadata": {
    "colab_type": "text",
    "id": "hDy65A7DMps5"
   },
   "source": [
    "## Different activation functions"
   ]
  },
  {
   "cell_type": "code",
   "execution_count": 5,
   "metadata": {
    "colab": {},
    "colab_type": "code",
    "id": "UDvi8I9SYC_A"
   },
   "outputs": [],
   "source": [
    "def sigmoid(z):\n",
    "  return 1/(1+np.exp(-z))\n",
    "\n",
    "def relu(z):\n",
    "  return np.maximum(0,z)"
   ]
  },
  {
   "cell_type": "markdown",
   "metadata": {
    "colab_type": "text",
    "id": "l0dnJE7xVkel"
   },
   "source": [
    "## Forward Propagation"
   ]
  },
  {
   "cell_type": "code",
   "execution_count": 6,
   "metadata": {
    "colab": {},
    "colab_type": "code",
    "id": "mAgpPX8vUQCn"
   },
   "outputs": [],
   "source": [
    "def forward_activation(A_prev, W, b, activation):\n",
    "  Z = np.dot(W,A_prev) + b\n",
    "\n",
    "  assert(Z.shape == (W.shape[0],A_prev.shape[1]))\n",
    "\n",
    "  if activation == \"sigmoid\":\n",
    "    A = sigmoid(Z)\n",
    "  elif activation == \"tanh\":\n",
    "    A = np.tanh(Z)\n",
    "  elif activation == \"relu\":\n",
    "    A = relu(Z)\n",
    "  \n",
    "  cache = (A_prev, W, b, Z)\n",
    "\n",
    "  return A, cache"
   ]
  },
  {
   "cell_type": "code",
   "execution_count": 7,
   "metadata": {
    "colab": {},
    "colab_type": "code",
    "id": "e2rteT5KVigK"
   },
   "outputs": [],
   "source": [
    "def forward_prop(X, params):\n",
    "  L = len(params) // 2\n",
    "  A = X\n",
    "  caches = []\n",
    "\n",
    "  for l in range(1,L):\n",
    "    A_prev = A\n",
    "    A, cache = forward_activation(A_prev, params[\"W\"+str(l)], params[\"b\"+str(l)], \"tanh\")\n",
    "    caches.append(cache)\n",
    "\n",
    "  A_L, cache = forward_activation(A, params[\"W\"+str(L)], params[\"b\"+str(L)], \"sigmoid\")\n",
    "  caches.append(cache)\n",
    "\n",
    "  return A_L, caches"
   ]
  },
  {
   "cell_type": "markdown",
   "metadata": {
    "colab_type": "text",
    "id": "-zolD6OPywsa"
   },
   "source": [
    "## Calculate Loss"
   ]
  },
  {
   "cell_type": "code",
   "execution_count": 8,
   "metadata": {
    "colab": {},
    "colab_type": "code",
    "id": "Ox4FThgZsGdz"
   },
   "outputs": [],
   "source": [
    "def calc_loss(A_L, y):\n",
    "  m = y.shape[1]\n",
    "\n",
    "  loss = (-1./m) * np.sum(y*np.log(A_L) + (1-y)*np.log(1-A_L))\n",
    "  loss = np.squeeze(loss)\n",
    "  \n",
    "  assert(loss.shape == ())\n",
    "  return loss"
   ]
  },
  {
   "cell_type": "markdown",
   "metadata": {
    "colab_type": "text",
    "id": "9wmZOwmBTpu8"
   },
   "source": [
    "## Derivative of different activation functions\n",
    "- Needed for back-prop"
   ]
  },
  {
   "cell_type": "code",
   "execution_count": 9,
   "metadata": {
    "colab": {},
    "colab_type": "code",
    "id": "qi1jEQWmT2k0"
   },
   "outputs": [],
   "source": [
    "def sigmoid_back(z):\n",
    "  a = sigmoid(z)\n",
    "  assert(a.shape == z.shape)\n",
    "  return a*(1-a)\n",
    "\n",
    "def tanh_back(z):\n",
    "  a = np.tanh(z)\n",
    "  return (1-a**2)\n",
    "\n",
    "def relu_back(z):\n",
    "  a = (z>0).astype(int)\n",
    "  return a"
   ]
  },
  {
   "cell_type": "markdown",
   "metadata": {
    "colab_type": "text",
    "id": "ZMAGcfH2Y10N"
   },
   "source": [
    "## Back Propagation"
   ]
  },
  {
   "cell_type": "code",
   "execution_count": 10,
   "metadata": {
    "colab": {},
    "colab_type": "code",
    "id": "B6buw4IHgsSC"
   },
   "outputs": [],
   "source": [
    "def back_activation(dA, cache, activation):\n",
    "  m = dA.shape[1]\n",
    "  A_prev, W, b, Z = cache\n",
    "\n",
    "  if activation == \"sigmoid\":\n",
    "    dZ = dA * sigmoid_back(Z)\n",
    "  if activation == \"tanh\":\n",
    "    dZ = dA * tanh_back(Z)\n",
    "  if activation == \"relu\":\n",
    "    dZ = dA * relu_back(Z)\n",
    "\n",
    "  assert(dZ.shape == dA.shape)\n",
    "\n",
    "  dW = np.dot(dZ, A_prev.T) / m\n",
    "  db = np.sum(dZ, axis=1, keepdims=True) / m\n",
    "  dA_prev = np.dot(W.T,dZ)\n",
    "\n",
    "  assert(dW.shape == W.shape)\n",
    "  assert(db.shape == b.shape)\n",
    "  assert(dA_prev.shape == A_prev.shape)\n",
    "\n",
    "  return dW, db, dA_prev"
   ]
  },
  {
   "cell_type": "code",
   "execution_count": 11,
   "metadata": {
    "colab": {},
    "colab_type": "code",
    "id": "cQ-UiC214HpG"
   },
   "outputs": [],
   "source": [
    "def back_prop(A_L, y, caches):\n",
    "  m = A_L.shape[1]\n",
    "  L = len(caches)\n",
    "  grads = {}\n",
    "\n",
    "  dA_L = - np.divide(y,A_L) + np.divide(1-y,1-A_L)\n",
    "  #dZ_L = (1/m) * (A_L - y)\n",
    "  \n",
    "  assert(dA_L.shape == A_L.shape)\n",
    "\n",
    "  cache = caches[L-1]\n",
    "  grads[\"dW\"+str(L)], grads[\"db\"+str(L)], grads[\"dA\"+str(L-1)] = back_activation(dA_L, cache, \"sigmoid\")\n",
    "\n",
    "  for l in reversed(range(1,L)):\n",
    "    cache = caches[l-1]\n",
    "    grads[\"dW\"+str(l)], grads[\"db\"+str(l)], grads[\"dA\"+str(l-1)] = back_activation(grads[\"dA\"+str(l)], cache, \"tanh\")\n",
    "  \n",
    "  return grads"
   ]
  },
  {
   "cell_type": "markdown",
   "metadata": {
    "colab_type": "text",
    "id": "7oee_MFNObSM"
   },
   "source": [
    "## Update parameters"
   ]
  },
  {
   "cell_type": "code",
   "execution_count": 12,
   "metadata": {
    "colab": {},
    "colab_type": "code",
    "id": "mwmf5P7X6kZE"
   },
   "outputs": [],
   "source": [
    "def update_params(params, grads, learning_rate):\n",
    "  L = len(params) // 2\n",
    "\n",
    "  for l in range(L):\n",
    "    params[\"W\"+str(l+1)] = params[\"W\"+str(l+1)] - learning_rate * grads[\"dW\"+str(l+1)]\n",
    "    params[\"b\"+str(l+1)] = params[\"b\"+str(l+1)] - learning_rate * grads[\"db\"+str(l+1)]\n",
    "\n",
    "  return params"
   ]
  },
  {
   "cell_type": "markdown",
   "metadata": {
    "colab_type": "text",
    "id": "WpLA6t38ZJo8"
   },
   "source": [
    "## Model function to put together all the above components"
   ]
  },
  {
   "cell_type": "code",
   "execution_count": 13,
   "metadata": {
    "colab": {},
    "colab_type": "code",
    "id": "nC9qmhTaYufW"
   },
   "outputs": [],
   "source": [
    "def model(X, y, layer_dims, learning_rate=0.01, epochs=10000, print_loss=False):\n",
    "  params = initialize_params(layer_dims)\n",
    "  losses = []\n",
    "\n",
    "  for t in range(epochs):\n",
    "    \n",
    "    A_L, caches = forward_prop(X, params)\n",
    "    loss = calc_loss(A_L, y)\n",
    "    grads = back_prop(A_L, y, caches)\n",
    "    params = update_params(params, grads, learning_rate)\n",
    "\n",
    "    if t%100 == 0 and print_loss:\n",
    "      losses.append(loss)\n",
    "      print(\"loss after iteration num \" + str(t) + \" : \" + str(loss))\n",
    "  \n",
    "  return params"
   ]
  },
  {
   "cell_type": "markdown",
   "metadata": {
    "colab_type": "text",
    "id": "Q2G9kGBtTNt7"
   },
   "source": [
    "## Train your model"
   ]
  },
  {
   "cell_type": "code",
   "execution_count": 14,
   "metadata": {
    "colab": {
     "base_uri": "https://localhost:8080/",
     "height": 1000
    },
    "colab_type": "code",
    "id": "jyRInPpasW-_",
    "outputId": "f7b12db5-f8d2-4110-c8cb-f69a34fe9507"
   },
   "outputs": [
    {
     "name": "stdout",
     "output_type": "stream",
     "text": [
      "loss after iteration num 0 : 0.7152438446331826\n",
      "loss after iteration num 100 : 0.3457514117629067\n",
      "loss after iteration num 200 : 0.31200977592848284\n",
      "loss after iteration num 300 : 0.30389257929599045\n",
      "loss after iteration num 400 : 0.3013237043444417\n",
      "loss after iteration num 500 : 0.30005642415789946\n",
      "loss after iteration num 600 : 0.29907097384456055\n",
      "loss after iteration num 700 : 0.2981008551599098\n",
      "loss after iteration num 800 : 0.2970751789200482\n",
      "loss after iteration num 900 : 0.2959807723962469\n",
      "loss after iteration num 1000 : 0.2948228082447801\n",
      "loss after iteration num 1100 : 0.29361169257576797\n",
      "loss after iteration num 1200 : 0.29235853791657945\n",
      "loss after iteration num 1300 : 0.2910738177661694\n",
      "loss after iteration num 1400 : 0.2897667577855482\n",
      "loss after iteration num 1500 : 0.28844406600489503\n",
      "loss after iteration num 1600 : 0.2871069864208292\n",
      "loss after iteration num 1700 : 0.28574520006564125\n",
      "loss after iteration num 1800 : 0.2843242773117667\n",
      "loss after iteration num 1900 : 0.2827602392245003\n",
      "loss after iteration num 2000 : 0.28087672002956615\n",
      "loss after iteration num 2100 : 0.2783741545617352\n",
      "loss after iteration num 2200 : 0.2748957485520427\n",
      "loss after iteration num 2300 : 0.2701238464097724\n",
      "loss after iteration num 2400 : 0.2636830963772268\n",
      "loss after iteration num 2500 : 0.255161074486414\n",
      "loss after iteration num 2600 : 0.2445850946852456\n",
      "loss after iteration num 2700 : 0.23269605972214533\n",
      "loss after iteration num 2800 : 0.2204506143018306\n",
      "loss after iteration num 2900 : 0.20851083723569602\n",
      "loss after iteration num 3000 : 0.1972126899945715\n",
      "loss after iteration num 3100 : 0.18669984050128383\n",
      "loss after iteration num 3200 : 0.17702365324106273\n",
      "loss after iteration num 3300 : 0.16819549238251572\n",
      "loss after iteration num 3400 : 0.16020615974693594\n",
      "loss after iteration num 3500 : 0.153029042122626\n",
      "loss after iteration num 3600 : 0.14662043583955314\n",
      "loss after iteration num 3700 : 0.1409226354334343\n",
      "loss after iteration num 3800 : 0.1358693703159065\n",
      "loss after iteration num 3900 : 0.13139147675238486\n",
      "loss after iteration num 4000 : 0.12742137772772097\n",
      "loss after iteration num 4100 : 0.12389596910313685\n",
      "loss after iteration num 4200 : 0.12075811463378354\n",
      "loss after iteration num 4300 : 0.11795714618999933\n",
      "loss after iteration num 4400 : 0.11544874344213725\n",
      "loss after iteration num 4500 : 0.1131944743258642\n",
      "loss after iteration num 4600 : 0.11116118316019472\n",
      "loss after iteration num 4700 : 0.10932033993831407\n",
      "loss after iteration num 4800 : 0.10764741396913503\n",
      "loss after iteration num 4900 : 0.10612130301733265\n",
      "loss after iteration num 5000 : 0.10472382988526868\n",
      "loss after iteration num 5100 : 0.10343930755393405\n",
      "loss after iteration num 5200 : 0.10225416839456479\n",
      "loss after iteration num 5300 : 0.10115665048101809\n",
      "loss after iteration num 5400 : 0.10013653333701049\n",
      "loss after iteration num 5500 : 0.09918491571249803\n",
      "loss after iteration num 5600 : 0.09829402870026895\n",
      "loss after iteration num 5700 : 0.09745707838694376\n",
      "loss after iteration num 5800 : 0.09666811312213516\n",
      "loss after iteration num 5900 : 0.09592191130508933\n",
      "loss after iteration num 6000 : 0.09521388629624195\n",
      "loss after iteration num 6100 : 0.09454000565475565\n",
      "loss after iteration num 6200 : 0.09389672238902672\n",
      "loss after iteration num 6300 : 0.09328091629840626\n",
      "loss after iteration num 6400 : 0.09268984379606231\n",
      "loss after iteration num 6500 : 0.09212109485000575\n",
      "loss after iteration num 6600 : 0.0915725558757236\n",
      "loss after iteration num 6700 : 0.09104237757214688\n",
      "loss after iteration num 6800 : 0.09052894682390286\n",
      "loss after iteration num 6900 : 0.0900308619065335\n",
      "loss after iteration num 7000 : 0.08954691033551944\n",
      "loss after iteration num 7100 : 0.0890760488005144\n",
      "loss after iteration num 7200 : 0.08861738472688435\n",
      "loss after iteration num 7300 : 0.08817015910866002\n",
      "loss after iteration num 7400 : 0.08773373035898568\n",
      "loss after iteration num 7500 : 0.08730755902247765\n",
      "loss after iteration num 7600 : 0.08689119328345556\n",
      "loss after iteration num 7700 : 0.08648425527915148\n",
      "loss after iteration num 7800 : 0.08608642828282352\n",
      "loss after iteration num 7900 : 0.085697444855074\n",
      "loss after iteration num 8000 : 0.08531707607197701\n",
      "loss after iteration num 8100 : 0.08494512192791633\n",
      "loss after iteration num 8200 : 0.08458140298368458\n",
      "loss after iteration num 8300 : 0.08422575329222019\n",
      "loss after iteration num 8400 : 0.08387801459163959\n",
      "loss after iteration num 8500 : 0.08353803171368951\n",
      "loss after iteration num 8600 : 0.08320564911987921\n",
      "loss after iteration num 8700 : 0.0828807084502049\n",
      "loss after iteration num 8800 : 0.08256304695176592\n",
      "loss after iteration num 8900 : 0.08225249664652369\n",
      "loss after iteration num 9000 : 0.08194888409781213\n",
      "loss after iteration num 9100 : 0.08165203064224726\n",
      "loss after iteration num 9200 : 0.0813617529655055\n",
      "loss after iteration num 9300 : 0.08107786391520155\n",
      "loss after iteration num 9400 : 0.08080017346023864\n",
      "loss after iteration num 9500 : 0.08052848972227032\n",
      "loss after iteration num 9600 : 0.08026262002040334\n",
      "loss after iteration num 9700 : 0.08000237188438408\n",
      "loss after iteration num 9800 : 0.07974755400390864\n",
      "loss after iteration num 9900 : 0.07949797709223444\n"
     ]
    }
   ],
   "source": [
    "layer_dims = [2, 4, 1]\n",
    "params = model(X_train, y_train, layer_dims, learning_rate=0.1, epochs=10000, print_loss=True)"
   ]
  },
  {
   "cell_type": "markdown",
   "metadata": {
    "colab_type": "text",
    "id": "4kpaZ5Y1UNog"
   },
   "source": [
    "## Prediction and plotting the decision boundary"
   ]
  },
  {
   "cell_type": "code",
   "execution_count": 15,
   "metadata": {
    "colab": {},
    "colab_type": "code",
    "id": "6doAM34yGwfa"
   },
   "outputs": [],
   "source": [
    "def predict(params, X):\n",
    "    A2, cache = forward_prop(X, params)\n",
    "    predictions = (A2>0.5) * 1\n",
    "    \n",
    "    return predictions"
   ]
  },
  {
   "cell_type": "code",
   "execution_count": 16,
   "metadata": {
    "colab": {},
    "colab_type": "code",
    "id": "Gg_EUtqkFcwS"
   },
   "outputs": [],
   "source": [
    "def plot_decision_boundary(model, X, y):\n",
    "    # Set min and max values and give it some padding\n",
    "    x_min, x_max = X[0, :].min() - .3, X[0, :].max() + .3\n",
    "    y_min, y_max = X[1, :].min() - .3, X[1, :].max() + .3\n",
    "    h = 0.01\n",
    "    # Generate a grid of points with distance h between them\n",
    "    xx, yy = np.meshgrid(np.arange(x_min, x_max, h), np.arange(y_min, y_max, h))\n",
    "    # Predict the function value for the whole grid\n",
    "    Z = model(np.c_[xx.ravel(), yy.ravel()])\n",
    "    Z = Z.reshape(xx.shape)\n",
    "    # Plot the contour and training examples\n",
    "    plt.contourf(xx, yy, Z, alpha=0.8, cmap=plt.cm.Spectral)\n",
    "    plt.contour(xx, yy, Z, [0.5], linewidths=1.5, colors='white')\n",
    "    plt.ylabel('x2')\n",
    "    plt.xlabel('x1')\n",
    "    #plt.scatter(X[0, :], X[1, :], c=y, cmap=plt.cm.Spectral, edgecolors='k')\n",
    "    plt.scatter(X[0, y[0,:] == 0], X[1, y[0,:] == 0], s=40, c='r', marker='o', cmap=plt.cm.Spectral, edgecolors='k')\n",
    "    plt.scatter(X[0, y[0,:] == 1], X[1, y[0,:] == 1], s=40, c='b', marker='x', cmap=plt.cm.Spectral, edgecolors='k')"
   ]
  },
  {
   "cell_type": "code",
   "execution_count": 17,
   "metadata": {
    "colab": {
     "base_uri": "https://localhost:8080/",
     "height": 388
    },
    "colab_type": "code",
    "id": "l9Tc6ZZeagtT",
    "outputId": "87525a95-2a19-4ade-b092-c3a6909c5265"
   },
   "outputs": [
    {
     "data": {
      "image/png": "[encoded data removed]",
      "text/plain": [
       "<Figure size 648x432 with 1 Axes>"
      ]
     },
     "metadata": {
      "needs_background": "light",
      "tags": []
     },
     "output_type": "display_data"
    }
   ],
   "source": [
    "plot_decision_boundary(lambda x: predict(params, x.T), X_train, y_train)"
   ]
  }
 ],
 "metadata": {
  "colab": {
   "authorship_tag": "ABX9TyMOw8Bsm8K3xJ3SAkCloWU/",
   "collapsed_sections": [],
   "name": "noob-nn.ipynb",
   "provenance": [],
   "toc_visible": true
  },
  "kernelspec": {
   "display_name": "Python 3",
   "language": "python",
   "name": "python3"
  },
  "language_info": {
   "codemirror_mode": {
    "name": "ipython",
    "version": 3
   },
   "file_extension": ".py",
   "mimetype": "text/x-python",
   "name": "python",
   "nbconvert_exporter": "python",
   "pygments_lexer": "ipython3",
   "version": "3.7.0"
  }
 },
 "nbformat": 4,
 "nbformat_minor": 1
}
